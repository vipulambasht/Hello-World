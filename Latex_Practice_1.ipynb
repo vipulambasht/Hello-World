{
 "cells": [
  {
   "cell_type": "markdown",
   "id": "a064fdf5",
   "metadata": {},
   "source": [
    "$$\\lim_{x \\to a^-} f(x) = f(a) = \\lim_{x \\to a^+} f(x)$$"
   ]
  },
  {
   "cell_type": "markdown",
   "id": "a9f1ba13",
   "metadata": {},
   "source": [
    "$$\\lim_{x \\to a^-} f(x) = f(a) = \\lim_{x \\to a^+} f(x)$$"
   ]
  },
  {
   "cell_type": "markdown",
   "id": "2d7fb001",
   "metadata": {},
   "source": [
    "$$e^x = \\sum_{k=0}^{\\infty} \\frac{x^k}{k!}$$"
   ]
  },
  {
   "cell_type": "markdown",
   "id": "71bcd3d4",
   "metadata": {},
   "source": [
    "$$\n",
    "\\mathbf{J}\n",
    "=\n",
    "\\frac{d \\mathbf{f}}{d \\mathbf{x}}\n",
    "=\n",
    "\\left[ \\frac{\\partial \\mathbf{f}}{\\partial x_1}\n",
    "\\cdots \\frac{\\partial \\mathbf{f}}{\\partial x_n} \\right]\n",
    "=\n",
    "\\begin{bmatrix}\n",
    "\\frac{\\partial f_1}{\\partial x_1} & \\cdots &\n",
    "\\frac{\\partial f_1}{\\partial x_n} \\\\\n",
    "\\vdots & \\ddots & \\vdots \\\\\n",
    "\\frac{\\partial f_m}{\\partial x_1} & \\cdots &\n",
    "\\frac{\\partial f_m}{\\partial x_n}\n",
    "\\end{bmatrix}\n",
    "$$"
   ]
  },
  {
   "cell_type": "code",
   "execution_count": 2,
   "id": "4ea03f6e",
   "metadata": {},
   "outputs": [
    {
     "data": {
      "text/plain": [
       "5"
      ]
     },
     "execution_count": 2,
     "metadata": {},
     "output_type": "execute_result"
    }
   ],
   "source": [
    "a = 2\n",
    "a+3"
   ]
  },
  {
   "cell_type": "code",
   "execution_count": null,
   "id": "1873db64",
   "metadata": {},
   "outputs": [],
   "source": []
  }
 ],
 "metadata": {
  "kernelspec": {
   "display_name": "Python 3 (ipykernel)",
   "language": "python",
   "name": "python3"
  },
  "language_info": {
   "codemirror_mode": {
    "name": "ipython",
    "version": 3
   },
   "file_extension": ".py",
   "mimetype": "text/x-python",
   "name": "python",
   "nbconvert_exporter": "python",
   "pygments_lexer": "ipython3",
   "version": "3.9.13"
  },
  "latex_envs": {
   "LaTeX_envs_menu_present": true,
   "autoclose": false,
   "autocomplete": true,
   "bibliofile": "biblio.bib",
   "cite_by": "apalike",
   "current_citInitial": 1,
   "eqLabelWithNumbers": true,
   "eqNumInitial": 1,
   "hotkeys": {
    "equation": "Ctrl-E",
    "itemize": "Ctrl-I"
   },
   "labels_anchors": false,
   "latex_user_defs": false,
   "report_style_numbering": false,
   "user_envs_cfg": false
  },
  "varInspector": {
   "cols": {
    "lenName": 16,
    "lenType": 16,
    "lenVar": 40
   },
   "kernels_config": {
    "python": {
     "delete_cmd_postfix": "",
     "delete_cmd_prefix": "del ",
     "library": "var_list.py",
     "varRefreshCmd": "print(var_dic_list())"
    },
    "r": {
     "delete_cmd_postfix": ") ",
     "delete_cmd_prefix": "rm(",
     "library": "var_list.r",
     "varRefreshCmd": "cat(var_dic_list()) "
    }
   },
   "types_to_exclude": [
    "module",
    "function",
    "builtin_function_or_method",
    "instance",
    "_Feature"
   ],
   "window_display": false
  }
 },
 "nbformat": 4,
 "nbformat_minor": 5
}
